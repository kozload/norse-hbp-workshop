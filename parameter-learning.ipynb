{
 "cells": [
  {
   "cell_type": "markdown",
   "id": "tight-bookmark",
   "metadata": {},
   "source": [
    "# Parameter learning in SNN with Norse\n",
    "\n",
    "Norse explores an excillerating playground that exists somewhere between regular deep learning and biological neurophysiology. We can take existing machine learning ideas and extend them into the biological domain - and vice versa.\n",
    "Normally, you would train networks solely by altering connection weights. But in biological neurons we have a number of additional degrees of freedom in the neuron parameters.\n",
    "\n",
    "In this workshop we will be looking at how Norse models neuron parameters and include such parameters in our training.\n",
    "\n",
    "The workshop is structured as follows\n",
    "* Brief description of the LIF parameters in Norse (~2 min)\n",
    "* Brief description of parameter optimization in PyTorch (~8 minutes)\n",
    "* Training of a model without neuron parameter optimization (~5 min)\n",
    "* Training of a model with neuron parameter optimization (~5 min)\n",
    "* Free experimentation and group discussion (~10 min)"
   ]
  },
  {
   "cell_type": "markdown",
   "id": "optional-location",
   "metadata": {},
   "source": [
    "## Step 0: Installations\n",
    "\n",
    "First of all, we will need to install Norse and PyTorch Lightning. Please run the cell below. Read on while it's running."
   ]
  },
  {
   "cell_type": "code",
   "execution_count": 1,
   "id": "western-accountability",
   "metadata": {},
   "outputs": [
    {
     "data": {
      "text/plain": [
       "<torch._C.Generator at 0x7f3a3817b730>"
      ]
     },
     "execution_count": 1,
     "metadata": {},
     "output_type": "execute_result"
    }
   ],
   "source": [
    "!pip install git+https://github.com/norse/norse pytorch-lightning --quiet\n",
    "    \n",
    "import torch\n",
    "import norse.torch as norse\n",
    "torch.manual_seed(0) # We fix the random seed to get reproducible results"
   ]
  },
  {
   "cell_type": "markdown",
   "id": "renewable-bracelet",
   "metadata": {},
   "source": [
    "## Step 1: LIF parameters in Norse\n",
    "\n",
    "The leaky integrate-and-fire neuron is a popular neuron model that can be modelled as\n",
    "\n",
    "$$\n",
    "\\dot{v} = 1/\\tau_{\\text{mem}} (v_{\\text{leak}} - v + i)\\\\\n",
    "\\dot{i} = -1/\\tau_{\\text{syn}} i\\\\\n",
    "z = \\Theta(v - v_{\\text{th}})\n",
    "$$\n",
    "\n",
    "where $\\dot{v}$ is the change in membrane voltage, $\\dot{i}$ is the change in input current, and $z$ represents the jump condition for spikes (spike = 1, no-spike = 0, given some threshold function $\\Theta$).\n",
    "\n",
    "The equations are parameterized by 4 numbers that determine the behaviour of the neuron:\n",
    "* The inverse synaptic time constant $\\tau_{\\text{syn}}$\n",
    "  * Determines the rate of change for the input current\n",
    "* The inverse membrane time constant $\\tau_{\\text{mem}}$\n",
    "  * Determines the rate of change for the membrane voltage\n",
    "* The voltage leak $v_{\\text{leak}}$\n",
    "  * Determines how fast current dissipates from the neuron\n",
    "* The voltage threshold $v_{\\text{th}}$\n",
    "  * Determines how much voltage the neuron needs before it jumps/spikes"
   ]
  },
  {
   "cell_type": "markdown",
   "id": "legal-wesley",
   "metadata": {},
   "source": [
    "All these parameters are difficult to keep track of, so we have grouped them in the class `LIFParameters` and assigned meaningful defaults. You can initialize and access the parameters like such"
   ]
  },
  {
   "cell_type": "code",
   "execution_count": 2,
   "id": "vocational-powell",
   "metadata": {},
   "outputs": [
    {
     "data": {
      "text/plain": [
       "tensor(100.)"
      ]
     },
     "execution_count": 2,
     "metadata": {},
     "output_type": "execute_result"
    }
   ],
   "source": [
    "p = norse.LIFParameters()\n",
    "p.tau_mem_inv"
   ]
  },
  {
   "cell_type": "markdown",
   "id": "legal-happening",
   "metadata": {},
   "source": [
    "As a quick exercise, try to play around with the parameter object. What other values would you expect to be in the object? Print them out like we do above."
   ]
  },
  {
   "cell_type": "markdown",
   "id": "mysterious-primary",
   "metadata": {},
   "source": [
    "## Step 2: Optimizing parameters in torch\n",
    "\n",
    "To not just apply the parameters, but also optimize upon them, we need to understand a bit about how this works in PyTorch.\n",
    "\n",
    "By default, the parameters are applied as constants. Simplified, it looks like this:"
   ]
  },
  {
   "cell_type": "code",
   "execution_count": 3,
   "id": "nearby-penny",
   "metadata": {},
   "outputs": [
    {
     "data": {
      "text/plain": [
       "tensor(81.)"
      ]
     },
     "execution_count": 3,
     "metadata": {},
     "output_type": "execute_result"
    }
   ],
   "source": [
    "import torch\n",
    "\n",
    "class SomeModule(torch.nn.Module):\n",
    "    def __init__(self, p: int):\n",
    "        super().__init__()\n",
    "        self.p = p\n",
    "        \n",
    "    def forward(self, x: torch.Tensor):\n",
    "        return x * self.p\n",
    "    \n",
    "module = SomeModule(p=10)\n",
    "out = module.forward(torch.ones(10))\n",
    "loss = torch.nn.functional.mse_loss(out, torch.ones(10))\n",
    "loss"
   ]
  },
  {
   "cell_type": "markdown",
   "id": "short-renaissance",
   "metadata": {},
   "source": [
    "Wow, that is a big loss! Now, what are we going to do with that loss? How can we optimize the above model? \n",
    "\n",
    "The unfortunate answer is that we cannot. There parameter we would like to modify is kept constant. We need PyTorch to understand that the parameter `p` can be optimized and updated."
   ]
  },
  {
   "cell_type": "code",
   "execution_count": 4,
   "id": "miniature-findings",
   "metadata": {},
   "outputs": [],
   "source": [
    "import torch\n",
    "\n",
    "class SomeModule(torch.nn.Module):\n",
    "    def __init__(self, p: torch.Tensor):\n",
    "        super().__init__()\n",
    "        self.p = torch.nn.Parameter(p)  # Notice that we wrap p in a Parameter\n",
    "        \n",
    "    def forward(self, x: torch.Tensor):\n",
    "        return x * self.p\n",
    "    \n",
    "module = SomeModule(p=torch.full((10,), 10.0))"
   ]
  },
  {
   "cell_type": "markdown",
   "id": "white-artwork",
   "metadata": {},
   "source": [
    "Now, we wrapped our parameter in a `Parameter` object. That tells pytorch that we want PyTorch to optimize `p` similarly as with connection weights, for instance.\n",
    "\n",
    "We can now find the loss again:"
   ]
  },
  {
   "cell_type": "code",
   "execution_count": 5,
   "id": "military-stylus",
   "metadata": {},
   "outputs": [
    {
     "data": {
      "text/plain": [
       "tensor(81., grad_fn=<MseLossBackward>)"
      ]
     },
     "execution_count": 5,
     "metadata": {},
     "output_type": "execute_result"
    }
   ],
   "source": [
    "out = module.forward(torch.ones(10))\n",
    "loss = torch.nn.functional.mse_loss(out, torch.ones(10))\n",
    "loss"
   ]
  },
  {
   "cell_type": "markdown",
   "id": "united-alignment",
   "metadata": {},
   "source": [
    "Notice that there is now gradient information attached to the loss. That means we have an autograd graph we can optimize!\n",
    "Specifically, we can now run the loss backwards to identify the loss with respect to all tensors that assisted in creating the loss. For instance, our parameter p"
   ]
  },
  {
   "cell_type": "code",
   "execution_count": 6,
   "id": "experienced-carrier",
   "metadata": {},
   "outputs": [],
   "source": [
    "loss.backward() "
   ]
  },
  {
   "cell_type": "markdown",
   "id": "talented-argument",
   "metadata": {},
   "source": [
    "One such parameter was our friend `p`. So if we are correct, we should be able to see any *gradient* (`.grad`) information attached to that parameter:"
   ]
  },
  {
   "cell_type": "code",
   "execution_count": 7,
   "id": "celtic-dividend",
   "metadata": {},
   "outputs": [
    {
     "data": {
      "text/plain": [
       "tensor([1.8000, 1.8000, 1.8000, 1.8000, 1.8000, 1.8000, 1.8000, 1.8000, 1.8000,\n",
       "        1.8000])"
      ]
     },
     "execution_count": 7,
     "metadata": {},
     "output_type": "execute_result"
    }
   ],
   "source": [
    "module.p.grad"
   ]
  },
  {
   "cell_type": "markdown",
   "id": "fatty-initial",
   "metadata": {},
   "source": [
    "Bingo! And now we can update the parameter in the module and recalculate the loss (which should decrease!). For technical reasons we need to wrap the code in the `.no_grad()` function."
   ]
  },
  {
   "cell_type": "code",
   "execution_count": 8,
   "id": "divine-cover",
   "metadata": {},
   "outputs": [
    {
     "data": {
      "text/plain": [
       "tensor(77.7924, grad_fn=<MseLossBackward>)"
      ]
     },
     "execution_count": 8,
     "metadata": {},
     "output_type": "execute_result"
    }
   ],
   "source": [
    "learning_rate = 0.1\n",
    "with torch.no_grad():\n",
    "    module.p -= module.p.grad * learning_rate\n",
    "\n",
    "out = module.forward(torch.ones(10))\n",
    "loss = torch.nn.functional.mse_loss(out, torch.ones(10))\n",
    "loss"
   ]
  },
  {
   "cell_type": "markdown",
   "id": "maritime-pension",
   "metadata": {},
   "source": [
    "... which is significantly less than before. \n",
    "\n",
    "We recommend that you play around with the code. Perhaps think about what would happen if you ran the cell above again? Do you get the expected result? Why/why not?"
   ]
  },
  {
   "cell_type": "markdown",
   "id": "resistant-syndication",
   "metadata": {},
   "source": [
    "## Step 3: Training a model without neuron parameter optimization\n",
    "\n",
    "Before we show how this can apply to neuron parameters as well, let us first train a model to learn to fire in every fifth timestep. The example is quite uninspiring because of time restrictions, but the same principles will apply to any other model."
   ]
  },
  {
   "cell_type": "markdown",
   "id": "choice-collins",
   "metadata": {},
   "source": [
    "### 3.1 Defining our model"
   ]
  },
  {
   "cell_type": "code",
   "execution_count": 9,
   "id": "union-newfoundland",
   "metadata": {},
   "outputs": [],
   "source": [
    "class OddFiringModel(torch.nn.Module):\n",
    "    \n",
    "    def __init__(self, p=norse.LIFParameters()):\n",
    "        super().__init__()\n",
    "        self.model = norse.SequentialState(\n",
    "            torch.nn.Linear(100, 200),\n",
    "            norse.LIF(p=p),\n",
    "            torch.nn.Linear(200, 100),\n",
    "            norse.LIF(p=p),\n",
    "        )\n",
    "        \n",
    "    def forward(self, x):\n",
    "        return self.model(x)"
   ]
  },
  {
   "cell_type": "markdown",
   "id": "blocked-decade",
   "metadata": {},
   "source": [
    "### 3.2 Defining our data"
   ]
  },
  {
   "cell_type": "code",
   "execution_count": 10,
   "id": "functioning-craps",
   "metadata": {},
   "outputs": [],
   "source": [
    "data = torch.ones(20, 32, 100)       # (training samples, batch_size, sequence)\n",
    "pattern = [0.0, 0.0, 0.0, 0.0, 1.0] * 2\n",
    "labels = torch.as_tensor(pattern * 10).expand_as(data[0]) # 100 labels (always the same)"
   ]
  },
  {
   "cell_type": "markdown",
   "id": "destroyed-aerospace",
   "metadata": {},
   "source": [
    "### 3.3 Training the model\n",
    "\n",
    "First we define our training function:"
   ]
  },
  {
   "cell_type": "code",
   "execution_count": 11,
   "id": "hundred-walter",
   "metadata": {},
   "outputs": [],
   "source": [
    "import tqdm \n",
    "def train(model, xs):\n",
    "    losses = []\n",
    "    for x in tqdm.tqdm(xs):\n",
    "        out, state = model(x)\n",
    "        loss = torch.nn.functional.mse_loss(out, labels)\n",
    "        optimizer.zero_grad()\n",
    "        loss.backward()\n",
    "        optimizer.step()\n",
    "        losses.append(loss.detach())\n",
    "    return losses"
   ]
  },
  {
   "cell_type": "markdown",
   "id": "existing-signal",
   "metadata": {},
   "source": [
    "Then we can define our model and train it:"
   ]
  },
  {
   "cell_type": "code",
   "execution_count": 12,
   "id": "junior-anthropology",
   "metadata": {},
   "outputs": [
    {
     "name": "stderr",
     "output_type": "stream",
     "text": [
      "100%|██████████| 20/20 [00:00<00:00, 26.65it/s]\n"
     ]
    },
    {
     "data": {
      "text/plain": [
       "[<matplotlib.lines.Line2D at 0x7f39986194c0>]"
      ]
     },
     "execution_count": 12,
     "metadata": {},
     "output_type": "execute_result"
    },
    {
     "data": {
      "image/png": "[encoded data removed]",
      "text/plain": [
       "<Figure size 432x288 with 1 Axes>"
      ]
     },
     "metadata": {
      "needs_background": "light"
     },
     "output_type": "display_data"
    }
   ],
   "source": [
    "model = OddFiringModel()\n",
    "optimizer = torch.optim.Adam(model.parameters(), lr=0.01)\n",
    "\n",
    "import matplotlib.pyplot as plt\n",
    "m1_losses = train(model, data)\n",
    "plt.plot(m1_losses)"
   ]
  },
  {
   "cell_type": "markdown",
   "id": "royal-benjamin",
   "metadata": {},
   "source": [
    "## Step 4: Training a model with neuron parameter optimization\n",
    "\n",
    "That went well. But let's see how we can do with a model that uses parameter optimization as well. To begin with, let us try to optimize on the `v_th` parameter."
   ]
  },
  {
   "cell_type": "code",
   "execution_count": 13,
   "id": "revolutionary-vision",
   "metadata": {},
   "outputs": [],
   "source": [
    "class OddFiringModelWithParameters(torch.nn.Module):\n",
    "    \n",
    "    def __init__(self):\n",
    "        super().__init__()\n",
    "        p1 = norse.LIFParameters(\n",
    "            # 100 neurons in layer 1\n",
    "            tau_mem_inv = torch.nn.Parameter(torch.full((200,), torch.as_tensor(1.0 / 1e-2))) \n",
    "        )\n",
    "        p2 = norse.LIFParameters(\n",
    "            # 100 neurons in layer 2\n",
    "            tau_mem_inv = torch.nn.Parameter(torch.full((100,), torch.as_tensor(1.0 / 1e-2)))\n",
    "        )\n",
    "        self.model = norse.SequentialState(\n",
    "            torch.nn.Linear(100, 200),\n",
    "            norse.LIF(p=p1),\n",
    "            torch.nn.Linear(200, 100),\n",
    "            norse.LIF(p=p2),\n",
    "        )\n",
    "        \n",
    "    def forward(self, x):\n",
    "        return self.model(x)"
   ]
  },
  {
   "cell_type": "code",
   "execution_count": 14,
   "id": "political-library",
   "metadata": {},
   "outputs": [
    {
     "name": "stderr",
     "output_type": "stream",
     "text": [
      "100%|██████████| 20/20 [00:00<00:00, 30.56it/s]\n"
     ]
    },
    {
     "data": {
      "text/plain": [
       "[<matplotlib.lines.Line2D at 0x7f39980951f0>]"
      ]
     },
     "execution_count": 14,
     "metadata": {},
     "output_type": "execute_result"
    },
    {
     "data": {
      "image/png": "[encoded data removed]",
      "text/plain": [
       "<Figure size 432x288 with 1 Axes>"
      ]
     },
     "metadata": {
      "needs_background": "light"
     },
     "output_type": "display_data"
    }
   ],
   "source": [
    "model = OddFiringModelWithParameters()\n",
    "optimizer = torch.optim.Adam(model.parameters(), lr=0.01)\n",
    "m2_losses = train(model, data)\n",
    "plt.plot(m2_losses)"
   ]
  },
  {
   "cell_type": "markdown",
   "id": "martial-fetish",
   "metadata": {},
   "source": [
    "This model will learn significantly faster, as we can see when we compare the two graphs:"
   ]
  },
  {
   "cell_type": "code",
   "execution_count": 15,
   "id": "supreme-pursuit",
   "metadata": {},
   "outputs": [
    {
     "data": {
      "text/plain": [
       "<matplotlib.legend.Legend at 0x7f39980dbd00>"
      ]
     },
     "execution_count": 15,
     "metadata": {},
     "output_type": "execute_result"
    },
    {
     "data": {
      "image/png": "[encoded data removed]",
      "text/plain": [
       "<Figure size 432x288 with 1 Axes>"
      ]
     },
     "metadata": {
      "needs_background": "light"
     },
     "output_type": "display_data"
    }
   ],
   "source": [
    "plt.plot(m1_losses, label=\"Without parameter optimization\")\n",
    "plt.plot(m2_losses, label=\"With parameter optimization\")\n",
    "plt.gca().legend()"
   ]
  },
  {
   "cell_type": "markdown",
   "id": "wrapped-protection",
   "metadata": {},
   "source": [
    "Note, you might get different results, depending on the randomized initialization of the parameters. If the graphs look weird, try re-running the training."
   ]
  },
  {
   "cell_type": "markdown",
   "id": "tight-analysis",
   "metadata": {},
   "source": [
    "## Step 5: Free experimentation and discussion\n",
    "\n",
    "We have now understood how neuron parameters are represented in Norse, how we can use the optimizer in PyTorch to optimize *on the neuron parameters*, and how we can train spiking neural networks using such an optimizer.\n",
    "\n",
    "There are much more interesting problems one could solve with this. The remainder of the workshop is meant to explore some of these. So, here are a few challenges to you in the final ~10 minutes:\n",
    "\n",
    "* What happens if you used another parameter for optimization? For instance, the `v_reset`?\n",
    "* What happens if you use a recurrent neuron model? For instance the `LIFRecurrent`?\n",
    "* Discuss with your peers: does neuron parameter optimization exist in nature? Will we see different values for, say, the membrane time constant parameter in the brain?\n",
    "* Discuss with your peers: how can you apply this to your own work? Or to the work of your peers?"
   ]
  },
  {
   "cell_type": "markdown",
   "id": "structural-default",
   "metadata": {},
   "source": [
    "## Step 6: Conclusion\n",
    "\n",
    "This concludes the workshop on parameter learning. We hope it was helpful and we deeply appreciate your attention.\n",
    "\n",
    "![](https://raw.githubusercontent.com/norse/norse/master/logo.png)"
   ]
  }
 ],
 "metadata": {
  "kernelspec": {
   "display_name": "Python 3",
   "language": "python",
   "name": "python3"
  },
  "language_info": {
   "codemirror_mode": {
    "name": "ipython",
    "version": 3
   },
   "file_extension": ".py",
   "mimetype": "text/x-python",
   "name": "python",
   "nbconvert_exporter": "python",
   "pygments_lexer": "ipython3",
   "version": "3.8.5"
  }
 },
 "nbformat": 4,
 "nbformat_minor": 5
}
